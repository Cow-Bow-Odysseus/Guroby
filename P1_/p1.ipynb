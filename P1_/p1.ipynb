{
 "cells": [
  {
   "cell_type": "code",
   "execution_count": 2,
   "metadata": {},
   "outputs": [
    {
     "name": "stdout",
     "output_type": "stream",
     "text": [
      "Note: you may need to restart the kernel to use updated packages.\n"
     ]
    },
    {
     "name": "stderr",
     "output_type": "stream",
     "text": [
      "\n",
      "[notice] A new release of pip is available: 23.1.2 -> 23.3\n",
      "[notice] To update, run: python.exe -m pip install --upgrade pip\n"
     ]
    }
   ],
   "source": [
    "%pip install gurobipy pandas --quiet"
   ]
  },
  {
   "cell_type": "code",
   "execution_count": 3,
   "metadata": {},
   "outputs": [],
   "source": [
    "import pandas as pd\n",
    "\n",
    "import gurobipy as gp\n",
    "from gurobipy import GRB\n",
    "\n",
    "# tested with Python 3.7.0 & Gurobi 9.0"
   ]
  },
  {
   "cell_type": "markdown",
   "metadata": {},
   "source": [
    "# Input data\n",
    "\n",
    "Se define la información para el modelo."
   ]
  },
  {
   "cell_type": "code",
   "execution_count": null,
   "metadata": {},
   "outputs": [],
   "source": [
    "# List of dairy products.\n",
    "\n",
    "dairy = ['milk', 'butter', 'cheese1', 'cheese2']\n",
    "\n",
    "components = ['fat', 'dryMatter']\n",
    "\n",
    "\n",
    "# Create a dictionary to capture the percentage composition of the products.\n",
    "\n",
    "cd, qtyper = gp.multidict({\n",
    "    ('fat','milk'): 0.04,\n",
    "    ('fat','butter'): 0.8,\n",
    "    ('fat','cheese1'): 0.35,\n",
    "    ('fat','cheese2'): 0.25,\n",
    "    ('dryMatter','milk'): 0.09,\n",
    "    ('dryMatter','butter'): 0.02,\n",
    "    ('dryMatter','cheese1'): 0.3,\n",
    "    ('dryMatter','cheese2'): 0.4\n",
    "})\n",
    "\n",
    "# Create a dictionary to capture the yearly availability of components (1000 tons).\n",
    "\n",
    "components, capacity = gp.multidict({\n",
    "    ('fat'): 600,\n",
    "    ('dryMatter'): 750\n",
    "})\n",
    "\n",
    "# Create a dictionary to capture last year's domestic consumption and prices\n",
    "\n",
    "dairy, consumption, price, elasticity = gp.multidict({\n",
    "    ('milk'): [4.82, 0.297, 0.4],\n",
    "    ('butter'): [0.32, 0.72, 2.7],\n",
    "    ('cheese1'): [0.21, 1.05, 1.1],\n",
    "    ('cheese2'): [0.07, 0.815, 0.4]\n",
    "})\n",
    "\n",
    "elasticity12 = 0.1\n",
    "elasticity21 = 0.4\n",
    "\n",
    "priceIndex = 1.939"
   ]
  }
 ],
 "metadata": {
  "kernelspec": {
   "display_name": "env",
   "language": "python",
   "name": "python3"
  },
  "language_info": {
   "codemirror_mode": {
    "name": "ipython",
    "version": 3
   },
   "file_extension": ".py",
   "mimetype": "text/x-python",
   "name": "python",
   "nbconvert_exporter": "python",
   "pygments_lexer": "ipython3",
   "version": "3.11.4"
  },
  "orig_nbformat": 4
 },
 "nbformat": 4,
 "nbformat_minor": 2
}
